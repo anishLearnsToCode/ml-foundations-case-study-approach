{
 "cells": [
  {
   "cell_type": "markdown",
   "metadata": {},
   "source": [
    "# This is a Hello world project in Jupyter Notebook\n",
    "Hi there 🙂 this is my getting started project in Jupyter notebooks and we will look into\n",
    "- list item \n",
    "- list item 2\n",
    "- list item 3\n",
    "\n",
    "also links like [Google](https://www.google.com)\n"
   ]
  },
  {
   "cell_type": "code",
   "execution_count": 6,
   "metadata": {},
   "outputs": [
    {
     "name": "stdout",
     "output_type": "stream",
     "text": [
      "hello world\n"
     ]
    }
   ],
   "source": [
    "print('hello world')"
   ]
  },
  {
   "cell_type": "code",
   "execution_count": 10,
   "metadata": {},
   "outputs": [
    {
     "name": "stdout",
     "output_type": "stream",
     "text": [
      "Package           Version\n",
      "----------------- ---------\n",
      "astroid           2.4.2\n",
      "attrs             19.3.0\n",
      "backcall          0.2.0\n",
      "bleach            3.1.5\n",
      "certifi           2020.6.20\n",
      "chardet           3.0.4\n",
      "colorama          0.4.3\n",
      "cycler            0.10.0\n",
      "decorator         4.4.2\n",
      "defusedxml        0.6.0\n",
      "entrypoints       0.3\n",
      "idna              2.10\n",
      "ipykernel         5.3.3\n",
      "ipython           7.16.1\n",
      "ipython-genutils  0.2.0\n",
      "isort             4.3.21\n",
      "jedi              0.17.2\n",
      "Jinja2            2.11.2\n",
      "json5             0.9.5\n",
      "jsonschema        3.2.0\n",
      "jupyter-client    6.1.6\n",
      "jupyter-core      4.6.3\n",
      "jupyterlab        2.2.0\n",
      "jupyterlab-server 1.2.0\n",
      "kiwisolver        1.2.0\n",
      "lazy-object-proxy 1.4.3\n",
      "MarkupSafe        1.1.1\n",
      "matplotlib        3.2.1\n",
      "mccabe            0.6.1\n",
      "mistune           0.8.4\n",
      "nbconvert         5.6.1\n",
      "nbformat          5.0.7\n",
      "notebook          6.0.3\n",
      "numpy             1.18.4\n",
      "packaging         20.4\n",
      "pandas            1.0.3\n",
      "pandocfilters     1.4.2\n",
      "parso             0.7.0\n",
      "pickleshare       0.7.5\n",
      "pip               20.1.1\n",
      "prometheus-client 0.8.0\n",
      "prompt-toolkit    3.0.5\n",
      "pygame            1.9.6\n",
      "Pygments          2.6.1\n",
      "pylint            2.5.3\n",
      "pyparsing         2.4.7\n",
      "pyrsistent        0.16.0\n",
      "python-dateutil   2.8.1\n",
      "pytz              2020.1\n",
      "pywin32           228\n",
      "pywinpty          0.5.7\n",
      "pyzmq             19.0.1\n",
      "requests          2.24.0\n",
      "Send2Trash        1.5.0\n",
      "setuptools        41.2.0\n",
      "six               1.14.0\n",
      "terminado         0.8.3\n",
      "testpath          0.4.4\n",
      "toml              0.10.1\n",
      "tornado           6.0.4\n",
      "traitlets         4.3.3\n",
      "urllib3           1.25.9\n",
      "wcwidth           0.2.5\n",
      "webencodings      0.5.1\n",
      "wrapt             1.12.1\n"
     ]
    }
   ],
   "source": [
    "!l"
   ]
  }
 ],
 "metadata": {
  "kernelspec": {
   "display_name": "Python 3",
   "language": "python",
   "name": "python3"
  },
  "language_info": {
   "codemirror_mode": {
    "name": "ipython",
    "version": 3
   },
   "file_extension": ".py",
   "mimetype": "text/x-python",
   "name": "python",
   "nbconvert_exporter": "python",
   "pygments_lexer": "ipython3",
   "version": "3.8.3"
  }
 },
 "nbformat": 4,
 "nbformat_minor": 4
}
